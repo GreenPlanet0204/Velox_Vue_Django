{
 "cells": [
  {
   "cell_type": "code",
   "execution_count": 1,
   "metadata": {
    "collapsed": true
   },
   "outputs": [],
   "source": [
    "import os\n",
    "import django\n",
    "os.environ.setdefault('DJANGO_SETTINGS_MODULE', 'velox.settings')\n",
    "os.environ[\"DJANGO_ALLOW_ASYNC_UNSAFE\"] = \"true\"\n",
    "django.setup()\n",
    "\n",
    "import pandas as pd\n",
    "from velox_app.models import Horse, Measure"
   ]
  },
  {
   "cell_type": "code",
   "execution_count": 2,
   "outputs": [
    {
     "data": {
      "text/plain": "11003"
     },
     "execution_count": 2,
     "metadata": {},
     "output_type": "execute_result"
    }
   ],
   "source": [
    "measures = Measure.objects.all()\n",
    "len(measures)"
   ],
   "metadata": {
    "collapsed": false,
    "pycharm": {
     "name": "#%%\n"
    }
   }
  },
  {
   "cell_type": "code",
   "execution_count": 3,
   "outputs": [],
   "source": [
    "measures_dict = [m.__dict__ for m in measures]\n",
    "df_measures = pd.DataFrame(measures_dict)\n",
    "df_measures.drop(columns=['_state'], inplace=True)"
   ],
   "metadata": {
    "collapsed": false,
    "pycharm": {
     "name": "#%%\n"
    }
   }
  },
  {
   "cell_type": "code",
   "execution_count": 46,
   "outputs": [],
   "source": [
    "from decimal import Decimal\n",
    "df_measuresx = df_measures[~df_measures['prob_cardio_bio_model'].isna()]\n",
    "df_measuresx = df_measuresx['prob_cardio_bio_model'].apply(lambda x: Decimal(str(x)))\n",
    "res = pd.qcut(df_measuresx, q=6,  retbins=True)"
   ],
   "metadata": {
    "collapsed": false,
    "pycharm": {
     "name": "#%%\n"
    }
   }
  },
  {
   "cell_type": "code",
   "execution_count": 51,
   "outputs": [
    {
     "data": {
      "text/plain": "([(0.449, 0.831], (0.449, 0.831], (0.449, 0.831], (0.449, 0.831], (0.449, 0.831], ..., (0.26, 0.449], (0.26, 0.449], (0.26, 0.449], (0.26, 0.449], (0.26, 0.449]]\n Length: 3543\n Categories (6, interval[float64, right]): [(0.0687, 0.0967] < (0.0967, 0.129] < (0.129, 0.159] < (0.159, 0.26] < (0.26, 0.449] < (0.449, 0.831]],\n array([0.06973092, 0.09674302, 0.12873187, 0.15856479, 0.26005678,\n        0.44886125, 0.83053434]))"
     },
     "execution_count": 51,
     "metadata": {},
     "output_type": "execute_result"
    }
   ],
   "source": [
    "pd.qcut(df_measuresx.unique(), q=6, retbins=True)"
   ],
   "metadata": {
    "collapsed": false,
    "pycharm": {
     "name": "#%%\n"
    }
   }
  },
  {
   "cell_type": "code",
   "execution_count": 40,
   "outputs": [
    {
     "data": {
      "text/plain": "D     833\nC     832\nB     832\nB+    832\nA     832\nA+    832\nName: prob_cardio_bio_model, dtype: int64"
     },
     "execution_count": 40,
     "metadata": {},
     "output_type": "execute_result"
    }
   ],
   "source": [
    "res[0].value_counts()"
   ],
   "metadata": {
    "collapsed": false,
    "pycharm": {
     "name": "#%%\n"
    }
   }
  },
  {
   "cell_type": "code",
   "execution_count": 59,
   "outputs": [
    {
     "name": "stdout",
     "output_type": "stream",
     "text": [
      "{'A': [0.2505566478, 0.4478050768],\n",
      " 'A+': [0.4478050768, 1.0],\n",
      " 'B': [0.1255440116, 0.1556581855],\n",
      " 'B+': [0.1556581855, 0.2505566478],\n",
      " 'C': [0.094587855, 0.1255440116],\n",
      " 'D': [0.0, 0.094587855]}\n"
     ]
    }
   ],
   "source": [
    "# res[1]\n",
    "bins_values = res[1]\n",
    "bins = {\n",
    "    'D': [0.0, bins_values[1]],\n",
    "    'C': [bins_values[1], bins_values[2]],\n",
    "    'B': [bins_values[2], bins_values[3]],\n",
    "    'B+': [bins_values[3], bins_values[4]],\n",
    "    'A': [bins_values[4], bins_values[5]],\n",
    "    'A+': [bins_values[5], 1.0],\n",
    "}\n",
    "bins_rev = {\n",
    "    (0.0, bins_values[1]): 'D',\n",
    "    (bins_values[1], bins_values[2]): 'C',\n",
    "    (bins_values[2], bins_values[3]): 'B',\n",
    "    (bins_values[3], bins_values[4]): 'B+',\n",
    "    (bins_values[4], bins_values[5]): 'A',\n",
    "    (bins_values[5], 1.0): 'A+',\n",
    "}\n",
    "from pprint import pprint\n",
    "\n",
    "pprint(bins)"
   ],
   "metadata": {
    "collapsed": false,
    "pycharm": {
     "name": "#%%\n"
    }
   }
  },
  {
   "cell_type": "code",
   "execution_count": 70,
   "outputs": [
    {
     "data": {
      "text/plain": "(0.0687, 0.0946]    833\n(0.0946, 0.126]     832\n(0.126, 0.156]      832\n(0.156, 0.251]      832\n(0.251, 0.448]      832\n(0.448, 0.831]      832\nName: prob_cardio_bio_model, dtype: int64"
     },
     "execution_count": 70,
     "metadata": {},
     "output_type": "execute_result"
    }
   ],
   "source": [
    "categories = res[0].values\n",
    "# categories.categories.values.to_tuples()\n",
    "res[0].value_counts()"
   ],
   "metadata": {
    "collapsed": false,
    "pycharm": {
     "name": "#%%\n"
    }
   }
  },
  {
   "cell_type": "code",
   "execution_count": 58,
   "outputs": [
    {
     "name": "stdout",
     "output_type": "stream",
     "text": [
      "C\n"
     ]
    }
   ],
   "source": [
    "prob = 0.1\n",
    "for k,v in bins_rev.items():\n",
    "    bin_min = k[0]\n",
    "    bin_max = k[1]\n",
    "    if bin_max>= prob > bin_min:\n",
    "        print(v)"
   ],
   "metadata": {
    "collapsed": false,
    "pycharm": {
     "name": "#%%\n"
    }
   }
  }
 ],
 "metadata": {
  "kernelspec": {
   "display_name": "Python 3",
   "language": "python",
   "name": "python3"
  },
  "language_info": {
   "codemirror_mode": {
    "name": "ipython",
    "version": 2
   },
   "file_extension": ".py",
   "mimetype": "text/x-python",
   "name": "python",
   "nbconvert_exporter": "python",
   "pygments_lexer": "ipython2",
   "version": "2.7.6"
  }
 },
 "nbformat": 4,
 "nbformat_minor": 0
}