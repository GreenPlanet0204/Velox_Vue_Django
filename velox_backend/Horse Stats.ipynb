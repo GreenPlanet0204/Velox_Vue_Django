{
 "cells": [
  {
   "cell_type": "code",
   "execution_count": 1,
   "id": "494bf27a",
   "metadata": {},
   "outputs": [],
   "source": [
    "import os\n",
    "import django\n",
    "os.environ.setdefault('DJANGO_SETTINGS_MODULE', 'velox.settings')\n",
    "os.environ[\"DJANGO_ALLOW_ASYNC_UNSAFE\"] = \"true\"\n",
    "django.setup()\n",
    "\n",
    "import pandas as pd\n",
    "from velox_app.models import Horse, Measure"
   ]
  },
  {
   "cell_type": "code",
   "execution_count": 2,
   "id": "536d3cee",
   "metadata": {},
   "outputs": [
    {
     "data": {
      "text/plain": "7553"
     },
     "execution_count": 2,
     "metadata": {},
     "output_type": "execute_result"
    }
   ],
   "source": [
    "horses = Horse.objects.all()\n",
    "len(horses)"
   ]
  },
  {
   "cell_type": "code",
   "execution_count": 3,
   "id": "89d593dc",
   "metadata": {},
   "outputs": [
    {
     "data": {
      "text/plain": "11002"
     },
     "execution_count": 3,
     "metadata": {},
     "output_type": "execute_result"
    }
   ],
   "source": [
    "measures = Measure.objects.all()\n",
    "len(measures)"
   ]
  },
  {
   "cell_type": "code",
   "execution_count": 4,
   "id": "8323c936",
   "metadata": {},
   "outputs": [],
   "source": [
    "# init\n",
    "horses_dict = [h.__dict__ for h in horses]\n",
    "measures_dict = [m.__dict__ for m in measures]\n",
    "df_horses = pd.DataFrame(horses_dict)\n",
    "df_measures = pd.DataFrame(measures_dict)\n",
    "df_measures.drop(columns=['_state'], inplace=True)\n",
    "df_horses.drop(columns=['_state'], inplace=True)\n",
    "merged_df = df_measures.merge(df_horses, how='left', left_on='horse_id', right_on='id', suffixes=('_m', '_h'))"
   ]
  },
  {
   "cell_type": "code",
   "execution_count": 5,
   "id": "a99890a8",
   "metadata": {},
   "outputs": [],
   "source": [
    "# init 2\n",
    "def calculate_type(row):\n",
    "    days_old = row['days_old']\n",
    "    sex = row['sex']\n",
    "    horse_age_type = ''\n",
    "    if 365 >= days_old >= 0:\n",
    "        horse_age_type = 'Weanling'\n",
    "    elif 670 >= days_old >= 366:\n",
    "        horse_age_type = 'Yearling'\n",
    "    elif 990 >= days_old >= 671:\n",
    "        horse_age_type = '2YO'\n",
    "    elif days_old >= 991:\n",
    "        horse_age_type = 'Older'\n",
    "    \n",
    "    horse_type = f'{sex} {horse_age_type}'\n",
    "    row['horse_type'] = horse_type\n",
    "    row['horse_age_type'] = horse_age_type\n",
    "    return row\n",
    "    \n",
    "merged_df = merged_df.apply(calculate_type, axis=1)\n",
    "merged_df['biomechanics'] = merged_df['gcs_bucket'].apply(lambda x: False if x is None else True)\n",
    "merged_df['cardio'] = merged_df['cardio_video'].apply(lambda x: False if x is None else True)\n",
    "merged_df['biomechanics_cluster'] = merged_df['biomechanics_cluster'].astype('Int64', errors='ignore')\n",
    "merged_df['cardio_cluster'] = merged_df['cardio_cluster'].astype('Int64', errors='ignore')"
   ]
  },
  {
   "cell_type": "code",
   "execution_count": 6,
   "id": "fba34627",
   "metadata": {},
   "outputs": [],
   "source": [
    "# population\n",
    "population_biomechanics = merged_df[merged_df['biomechanics'] == True].drop_duplicates(subset=['horse_id'])['horse_type'].value_counts().to_dict()\n",
    "population_cardio = merged_df[merged_df['cardio'] == True].drop_duplicates(subset=['horse_id'])['horse_type'].value_counts().to_dict()\n"
   ]
  },
  {
   "cell_type": "code",
   "execution_count": 108,
   "id": "38b2b547",
   "metadata": {},
   "outputs": [
    {
     "data": {
      "text/plain": [
       "{('Male Yearling', 'No'): 1475,\n",
       " ('Female Yearling', 'No'): 1096,\n",
       " ('Female Older', 'No'): 707,\n",
       " ('Female Older', 'Yes'): 520,\n",
       " ('Male Yearling', 'Yes'): 219,\n",
       " ('Male Older', 'Yes'): 173,\n",
       " ('Male 2YO', 'No'): 169,\n",
       " ('Female 2YO', 'No'): 156,\n",
       " ('Female Weanling', 'No'): 115,\n",
       " ('Male Older', 'No'): 106,\n",
       " ('Male Weanling', 'No'): 102,\n",
       " ('Female Yearling', 'Yes'): 98,\n",
       " ('Male 2YO', 'Yes'): 50,\n",
       " ('Female 2YO', 'Yes'): 29,\n",
       " ('Male Weanling', 'Yes'): 5,\n",
       " ('Male ', 'No'): 3,\n",
       " ('Female Weanling', 'Yes'): 1}"
      ]
     },
     "execution_count": 108,
     "metadata": {},
     "output_type": "execute_result"
    }
   ],
   "source": [
    "# population per elite\n",
    "merged_df[merged_df['biomechanics'] == True].drop_duplicates(subset=['horse_id'])[['horse_type', 'elite']].value_counts().to_dict()\n",
    "merged_df[merged_df['cardio'] == True].drop_duplicates(subset=['horse_id'])[['horse_type', 'elite']].value_counts().to_dict()\n"
   ]
  },
  {
   "cell_type": "code",
   "execution_count": 119,
   "id": "6c02de37",
   "metadata": {},
   "outputs": [
    {
     "data": {
      "text/plain": [
       "horse_age_type  type         \n",
       "Yearling        Flat             2882\n",
       "Older           Flat             1492\n",
       "2YO             Flat              398\n",
       "Weanling        Flat              223\n",
       "Older           National Hunt      14\n",
       "2YO             National Hunt       6\n",
       "Yearling        National Hunt       6\n",
       "                Flat                3\n",
       "dtype: int64"
      ]
     },
     "execution_count": 119,
     "metadata": {},
     "output_type": "execute_result"
    }
   ],
   "source": [
    "# Cardio tab\n",
    "merged_df[merged_df['cardio'] == True].drop_duplicates(subset=['horse_id'])[['horse_age_type', 'cardio_video_score', 'elite']].sort_values(by=['horse_age_type']).value_counts()\n",
    "\n",
    "merged_df[merged_df['cardio'] == True].drop_duplicates(subset=['horse_id'])[['horse_age_type', 'cardio_cluster', 'elite']].sort_values(by=['horse_age_type']).value_counts()\n",
    "merged_df[merged_df['cardio'] == True].drop_duplicates(subset=['horse_id'])[['horse_age_type', 'type']].sort_values(by=['horse_age_type']).value_counts()\n"
   ]
  },
  {
   "cell_type": "code",
   "execution_count": 147,
   "id": "e50a97d8",
   "metadata": {},
   "outputs": [
    {
     "data": {
      "text/plain": [
       "Index(['index', 'horse_type', 'elite', 'counts'], dtype='object')"
      ]
     },
     "execution_count": 147,
     "metadata": {},
     "output_type": "execute_result"
    }
   ],
   "source": [
    "merged_df[merged_df['cardio'] == True].drop_duplicates(subset=['horse_id'])[['horse_type', 'elite']].value_counts().reset_index().reset_index().rename(columns={0: 'counts'}).columns\n"
   ]
  },
  {
   "cell_type": "code",
   "execution_count": 195,
   "id": "d4e6c406",
   "metadata": {},
   "outputs": [
    {
     "data": {
      "text/plain": [
       "[{'horse_type': 'Male Yearling', 'elite': 'No', 0: 3274},\n",
       " {'horse_type': 'Female Yearling', 'elite': 'No', 0: 2592},\n",
       " {'horse_type': 'Female Older', 'elite': 'No', 0: 1280},\n",
       " {'horse_type': 'Female Older', 'elite': 'Yes', 0: 935},\n",
       " {'horse_type': 'Male Yearling', 'elite': 'Yes', 0: 473},\n",
       " {'horse_type': 'Male Older', 'elite': 'Yes', 0: 392},\n",
       " {'horse_type': 'Male 2YO', 'elite': 'No', 0: 386},\n",
       " {'horse_type': 'Female 2YO', 'elite': 'No', 0: 351},\n",
       " {'horse_type': 'Female Weanling', 'elite': 'No', 0: 251},\n",
       " {'horse_type': 'Female Yearling', 'elite': 'Yes', 0: 215},\n",
       " {'horse_type': 'Male Weanling', 'elite': 'No', 0: 213},\n",
       " {'horse_type': 'Male Older', 'elite': 'No', 0: 165},\n",
       " {'horse_type': 'Male 2YO', 'elite': 'Yes', 0: 104},\n",
       " {'horse_type': 'Female 2YO', 'elite': 'Yes', 0: 60},\n",
       " {'horse_type': 'Male Weanling', 'elite': 'Yes', 0: 10},\n",
       " {'horse_type': 'Male ', 'elite': 'No', 0: 4},\n",
       " {'horse_type': 'Female Weanling', 'elite': 'Yes', 0: 1}]"
      ]
     },
     "execution_count": 195,
     "metadata": {},
     "output_type": "execute_result"
    }
   ],
   "source": [
    "dfx = merged_df[['horse_type', 'elite']].value_counts().reset_index()\n",
    "dfx2 = pd.DataFrame(dfx)\n",
    "dfx2.to_dict(orient='records')"
   ]
  },
  {
   "cell_type": "code",
   "execution_count": 200,
   "id": "ac073bd4",
   "metadata": {},
   "outputs": [
    {
     "data": {
      "text/plain": [
       "[{'horse_type': 'Male Yearling', 'counts': 1694},\n",
       " {'horse_type': 'Female Older', 'counts': 1227},\n",
       " {'horse_type': 'Female Yearling', 'counts': 1194},\n",
       " {'horse_type': 'Male Older', 'counts': 279},\n",
       " {'horse_type': 'Male 2YO', 'counts': 219},\n",
       " {'horse_type': 'Female 2YO', 'counts': 185},\n",
       " {'horse_type': 'Female Weanling', 'counts': 116},\n",
       " {'horse_type': 'Male Weanling', 'counts': 107},\n",
       " {'horse_type': 'Male ', 'counts': 3}]"
      ]
     },
     "execution_count": 200,
     "metadata": {},
     "output_type": "execute_result"
    }
   ],
   "source": [
    "counts_s = merged_df[merged_df['cardio'] == True].drop_duplicates(subset=['horse_id'])[['horse_type']].value_counts()\n",
    "df = pd.DataFrame(counts_s).reset_index().rename(columns={0: 'counts'})\n",
    "df.to_dict(orient='records')"
   ]
  },
  {
   "cell_type": "code",
   "execution_count": 204,
   "id": "8c0c8aab",
   "metadata": {},
   "outputs": [
    {
     "data": {
      "text/plain": [
       "horse_age_type  cardio_video_score\n",
       "Yearling        D                     2453\n",
       "Older           D                      545\n",
       "                A+                     470\n",
       "2YO             D                      277\n",
       "Weanling        D                      195\n",
       "Yearling        C                      155\n",
       "Older           C                      152\n",
       "                A                      151\n",
       "                B                      107\n",
       "Yearling        B                       82\n",
       "                A+                      81\n",
       "Older           B+                      72\n",
       "Yearling        B+                      38\n",
       "                A                       36\n",
       "2YO             A+                      34\n",
       "                C                       31\n",
       "                A                       22\n",
       "                B                       21\n",
       "Weanling        C                       19\n",
       "2YO             B+                      16\n",
       "Weanling        B                        5\n",
       "                D                        3\n",
       "Weanling        A+                       2\n",
       "                A                        2\n",
       "dtype: int64"
      ]
     },
     "execution_count": 204,
     "metadata": {},
     "output_type": "execute_result"
    }
   ],
   "source": [
    "merged_df[merged_df['cardio'] == True].drop_duplicates(subset=['horse_id'])[['horse_age_type', 'cardio_video_score', 'elite']].value_counts()"
   ]
  },
  {
   "cell_type": "code",
   "execution_count": 212,
   "id": "2951bcb7",
   "metadata": {},
   "outputs": [],
   "source": [
    "dfx2 = merged_df[merged_df['cardio'] == True].drop_duplicates(subset=['horse_id']).groupby('horse_age_type')['cardio_video_score'].value_counts()\n",
    "dfx = pd.DataFrame(dfx2)"
   ]
  },
  {
   "cell_type": "code",
   "execution_count": 222,
   "id": "92e76352",
   "metadata": {},
   "outputs": [
    {
     "data": {
      "text/plain": [
       "[{'horse_age_type': '', 'cardio_video_score': 'D', 'counts': 3},\n",
       " {'horse_age_type': '2YO', 'cardio_video_score': 'D', 'counts': 277},\n",
       " {'horse_age_type': '2YO', 'cardio_video_score': 'A+', 'counts': 34},\n",
       " {'horse_age_type': '2YO', 'cardio_video_score': 'C', 'counts': 31},\n",
       " {'horse_age_type': '2YO', 'cardio_video_score': 'A', 'counts': 22},\n",
       " {'horse_age_type': '2YO', 'cardio_video_score': 'B', 'counts': 21},\n",
       " {'horse_age_type': '2YO', 'cardio_video_score': 'B+', 'counts': 16},\n",
       " {'horse_age_type': 'Older', 'cardio_video_score': 'D', 'counts': 545},\n",
       " {'horse_age_type': 'Older', 'cardio_video_score': 'A+', 'counts': 470},\n",
       " {'horse_age_type': 'Older', 'cardio_video_score': 'C', 'counts': 152},\n",
       " {'horse_age_type': 'Older', 'cardio_video_score': 'A', 'counts': 151},\n",
       " {'horse_age_type': 'Older', 'cardio_video_score': 'B', 'counts': 107},\n",
       " {'horse_age_type': 'Older', 'cardio_video_score': 'B+', 'counts': 72},\n",
       " {'horse_age_type': 'Weanling', 'cardio_video_score': 'D', 'counts': 195},\n",
       " {'horse_age_type': 'Weanling', 'cardio_video_score': 'C', 'counts': 19},\n",
       " {'horse_age_type': 'Weanling', 'cardio_video_score': 'B', 'counts': 5},\n",
       " {'horse_age_type': 'Weanling', 'cardio_video_score': 'A', 'counts': 2},\n",
       " {'horse_age_type': 'Weanling', 'cardio_video_score': 'A+', 'counts': 2},\n",
       " {'horse_age_type': 'Yearling', 'cardio_video_score': 'D', 'counts': 2453},\n",
       " {'horse_age_type': 'Yearling', 'cardio_video_score': 'C', 'counts': 155},\n",
       " {'horse_age_type': 'Yearling', 'cardio_video_score': 'B', 'counts': 82},\n",
       " {'horse_age_type': 'Yearling', 'cardio_video_score': 'A+', 'counts': 81},\n",
       " {'horse_age_type': 'Yearling', 'cardio_video_score': 'B+', 'counts': 38},\n",
       " {'horse_age_type': 'Yearling', 'cardio_video_score': 'A', 'counts': 36}]"
      ]
     },
     "execution_count": 222,
     "metadata": {},
     "output_type": "execute_result"
    }
   ],
   "source": [
    "dfx.rename(columns={'cardio_video_score': 'counts'}).reset_index().to_dict(orient='records')"
   ]
  },
  {
   "cell_type": "code",
   "execution_count": 232,
   "id": "702c1694",
   "metadata": {},
   "outputs": [
    {
     "data": {
      "text/plain": [
       "[{'cluster': 1, 'elite': 'No', 'score': 'D', 'counts': 313},\n",
       " {'cluster': 1, 'elite': 'No', 'score': 'C', 'counts': 42},\n",
       " {'cluster': 1, 'elite': 'No', 'score': 'B', 'counts': 27},\n",
       " {'cluster': 1, 'elite': 'No', 'score': 'A', 'counts': 22},\n",
       " {'cluster': 1, 'elite': 'No', 'score': 'A+', 'counts': 14},\n",
       " {'cluster': 1, 'elite': 'No', 'score': 'B+', 'counts': 9},\n",
       " {'cluster': 1, 'elite': 'Yes', 'score': 'A+', 'counts': 115},\n",
       " {'cluster': 1, 'elite': 'Yes', 'score': 'A', 'counts': 33},\n",
       " {'cluster': 1, 'elite': 'Yes', 'score': 'D', 'counts': 19},\n",
       " {'cluster': 1, 'elite': 'Yes', 'score': 'B', 'counts': 18},\n",
       " {'cluster': 1, 'elite': 'Yes', 'score': 'B+', 'counts': 14},\n",
       " {'cluster': 1, 'elite': 'Yes', 'score': 'C', 'counts': 13},\n",
       " {'cluster': 2, 'elite': 'No', 'score': 'D', 'counts': 872},\n",
       " {'cluster': 2, 'elite': 'No', 'score': 'C', 'counts': 7},\n",
       " {'cluster': 2, 'elite': 'No', 'score': 'A', 'counts': 2},\n",
       " {'cluster': 2, 'elite': 'No', 'score': 'B+', 'counts': 2},\n",
       " {'cluster': 2, 'elite': 'No', 'score': 'B', 'counts': 1},\n",
       " {'cluster': 2, 'elite': 'Yes', 'score': 'D', 'counts': 51},\n",
       " {'cluster': 2, 'elite': 'Yes', 'score': 'C', 'counts': 17},\n",
       " {'cluster': 2, 'elite': 'Yes', 'score': 'B', 'counts': 10},\n",
       " {'cluster': 2, 'elite': 'Yes', 'score': 'B+', 'counts': 9},\n",
       " {'cluster': 2, 'elite': 'Yes', 'score': 'A', 'counts': 6},\n",
       " {'cluster': 2, 'elite': 'Yes', 'score': 'A+', 'counts': 3},\n",
       " {'cluster': 3, 'elite': 'No', 'score': 'D', 'counts': 318},\n",
       " {'cluster': 3, 'elite': 'No', 'score': 'C', 'counts': 3},\n",
       " {'cluster': 3, 'elite': 'No', 'score': 'B', 'counts': 1},\n",
       " {'cluster': 3, 'elite': 'Yes', 'score': 'D', 'counts': 91},\n",
       " {'cluster': 3, 'elite': 'Yes', 'score': 'C', 'counts': 3},\n",
       " {'cluster': 3, 'elite': 'Yes', 'score': 'A', 'counts': 1},\n",
       " {'cluster': 4, 'elite': 'No', 'score': 'A+', 'counts': 68},\n",
       " {'cluster': 4, 'elite': 'No', 'score': 'A', 'counts': 26},\n",
       " {'cluster': 4, 'elite': 'No', 'score': 'C', 'counts': 9},\n",
       " {'cluster': 4, 'elite': 'No', 'score': 'B', 'counts': 8},\n",
       " {'cluster': 4, 'elite': 'No', 'score': 'B+', 'counts': 8},\n",
       " {'cluster': 4, 'elite': 'No', 'score': 'D', 'counts': 1},\n",
       " {'cluster': 4, 'elite': 'Yes', 'score': 'A+', 'counts': 96},\n",
       " {'cluster': 4, 'elite': 'Yes', 'score': 'A', 'counts': 7},\n",
       " {'cluster': 4, 'elite': 'Yes', 'score': 'B+', 'counts': 3},\n",
       " {'cluster': 4, 'elite': 'Yes', 'score': 'B', 'counts': 2},\n",
       " {'cluster': 5, 'elite': 'No', 'score': 'D', 'counts': 181},\n",
       " {'cluster': 5, 'elite': 'No', 'score': 'C', 'counts': 36},\n",
       " {'cluster': 5, 'elite': 'No', 'score': 'B', 'counts': 22},\n",
       " {'cluster': 5, 'elite': 'No', 'score': 'A+', 'counts': 20},\n",
       " {'cluster': 5, 'elite': 'No', 'score': 'B+', 'counts': 12},\n",
       " {'cluster': 5, 'elite': 'No', 'score': 'A', 'counts': 11},\n",
       " {'cluster': 5, 'elite': 'Yes', 'score': 'A+', 'counts': 87},\n",
       " {'cluster': 5, 'elite': 'Yes', 'score': 'D', 'counts': 18},\n",
       " {'cluster': 5, 'elite': 'Yes', 'score': 'A', 'counts': 11},\n",
       " {'cluster': 5, 'elite': 'Yes', 'score': 'B', 'counts': 8},\n",
       " {'cluster': 5, 'elite': 'Yes', 'score': 'C', 'counts': 6},\n",
       " {'cluster': 5, 'elite': 'Yes', 'score': 'B+', 'counts': 2},\n",
       " {'cluster': 6, 'elite': 'No', 'score': 'D', 'counts': 548},\n",
       " {'cluster': 6, 'elite': 'No', 'score': 'C', 'counts': 8},\n",
       " {'cluster': 6, 'elite': 'No', 'score': 'B', 'counts': 3},\n",
       " {'cluster': 6, 'elite': 'Yes', 'score': 'D', 'counts': 63},\n",
       " {'cluster': 6, 'elite': 'Yes', 'score': 'C', 'counts': 16},\n",
       " {'cluster': 6, 'elite': 'Yes', 'score': 'B', 'counts': 9},\n",
       " {'cluster': 6, 'elite': 'Yes', 'score': 'B+', 'counts': 2},\n",
       " {'cluster': 6, 'elite': 'Yes', 'score': 'A', 'counts': 1},\n",
       " {'cluster': 7, 'elite': 'No', 'score': 'D', 'counts': 677},\n",
       " {'cluster': 7, 'elite': 'No', 'score': 'C', 'counts': 75},\n",
       " {'cluster': 7, 'elite': 'No', 'score': 'B', 'counts': 27},\n",
       " {'cluster': 7, 'elite': 'No', 'score': 'B+', 'counts': 15},\n",
       " {'cluster': 7, 'elite': 'No', 'score': 'A+', 'counts': 9},\n",
       " {'cluster': 7, 'elite': 'No', 'score': 'A', 'counts': 6},\n",
       " {'cluster': 7, 'elite': 'Yes', 'score': 'D', 'counts': 93},\n",
       " {'cluster': 7, 'elite': 'Yes', 'score': 'C', 'counts': 29},\n",
       " {'cluster': 7, 'elite': 'Yes', 'score': 'A+', 'counts': 28},\n",
       " {'cluster': 7, 'elite': 'Yes', 'score': 'A', 'counts': 26},\n",
       " {'cluster': 7, 'elite': 'Yes', 'score': 'B', 'counts': 24},\n",
       " {'cluster': 7, 'elite': 'Yes', 'score': 'B+', 'counts': 9},\n",
       " {'cluster': 8, 'elite': 'No', 'score': 'D', 'counts': 118},\n",
       " {'cluster': 8, 'elite': 'No', 'score': 'C', 'counts': 50},\n",
       " {'cluster': 8, 'elite': 'No', 'score': 'B', 'counts': 24},\n",
       " {'cluster': 8, 'elite': 'No', 'score': 'A+', 'counts': 19},\n",
       " {'cluster': 8, 'elite': 'No', 'score': 'B+', 'counts': 18},\n",
       " {'cluster': 8, 'elite': 'No', 'score': 'A', 'counts': 13},\n",
       " {'cluster': 8, 'elite': 'Yes', 'score': 'A+', 'counts': 32},\n",
       " {'cluster': 8, 'elite': 'Yes', 'score': 'A', 'counts': 6},\n",
       " {'cluster': 8, 'elite': 'Yes', 'score': 'B+', 'counts': 5},\n",
       " {'cluster': 8, 'elite': 'Yes', 'score': 'D', 'counts': 4},\n",
       " {'cluster': 8, 'elite': 'Yes', 'score': 'B', 'counts': 2},\n",
       " {'cluster': 8, 'elite': 'Yes', 'score': 'C', 'counts': 1},\n",
       " {'cluster': 9, 'elite': 'No', 'score': 'D', 'counts': 101},\n",
       " {'cluster': 9, 'elite': 'No', 'score': 'A+', 'counts': 39},\n",
       " {'cluster': 9, 'elite': 'No', 'score': 'C', 'counts': 32},\n",
       " {'cluster': 9, 'elite': 'No', 'score': 'A', 'counts': 31},\n",
       " {'cluster': 9, 'elite': 'No', 'score': 'B', 'counts': 23},\n",
       " {'cluster': 9, 'elite': 'No', 'score': 'B+', 'counts': 14},\n",
       " {'cluster': 9, 'elite': 'Yes', 'score': 'A+', 'counts': 57},\n",
       " {'cluster': 9, 'elite': 'Yes', 'score': 'C', 'counts': 10},\n",
       " {'cluster': 9, 'elite': 'Yes', 'score': 'A', 'counts': 9},\n",
       " {'cluster': 9, 'elite': 'Yes', 'score': 'B', 'counts': 6},\n",
       " {'cluster': 9, 'elite': 'Yes', 'score': 'D', 'counts': 5},\n",
       " {'cluster': 9, 'elite': 'Yes', 'score': 'B+', 'counts': 4}]"
      ]
     },
     "execution_count": 232,
     "metadata": {},
     "output_type": "execute_result"
    }
   ],
   "source": [
    "dfx2 = merged_df[merged_df['cardio'] == True].drop_duplicates(subset=['horse_id']).groupby(['cardio_cluster', 'elite'])['cardio_video_score' ].value_counts()\n",
    "dfx = pd.DataFrame(dfx2)\n",
    "df_out = dfx.rename(columns={'cardio_video_score': 'counts',}).reset_index().rename(columns={'cardio_video_score': 'score', 'cardio_cluster': 'cluster'})\n",
    "df_out['cluster'] = df_out['cluster'].astype(int)\n",
    "df_out.to_dict(orient='records')"
   ]
  },
  {
   "cell_type": "code",
   "execution_count": 233,
   "id": "d38f7cc4",
   "metadata": {},
   "outputs": [
    {
     "data": {
      "text/plain": [
       "[{'type': 'Flat', 'elite': 'No', 'score': 'D', 'counts': 3118},\n",
       " {'type': 'Flat', 'elite': 'No', 'score': 'C', 'counts': 260},\n",
       " {'type': 'Flat', 'elite': 'No', 'score': 'A+', 'counts': 164},\n",
       " {'type': 'Flat', 'elite': 'No', 'score': 'B', 'counts': 132},\n",
       " {'type': 'Flat', 'elite': 'No', 'score': 'A', 'counts': 111},\n",
       " {'type': 'Flat', 'elite': 'No', 'score': 'B+', 'counts': 76},\n",
       " {'type': 'Flat', 'elite': 'Yes', 'score': 'A+', 'counts': 416},\n",
       " {'type': 'Flat', 'elite': 'Yes', 'score': 'D', 'counts': 344},\n",
       " {'type': 'Flat', 'elite': 'Yes', 'score': 'A', 'counts': 100},\n",
       " {'type': 'Flat', 'elite': 'Yes', 'score': 'C', 'counts': 95},\n",
       " {'type': 'Flat', 'elite': 'Yes', 'score': 'B', 'counts': 79},\n",
       " {'type': 'Flat', 'elite': 'Yes', 'score': 'B+', 'counts': 48},\n",
       " {'type': 'National Hunt', 'elite': 'No', 'score': 'D', 'counts': 11},\n",
       " {'type': 'National Hunt', 'elite': 'No', 'score': 'A+', 'counts': 5},\n",
       " {'type': 'National Hunt', 'elite': 'No', 'score': 'B', 'counts': 4},\n",
       " {'type': 'National Hunt', 'elite': 'No', 'score': 'B+', 'counts': 2},\n",
       " {'type': 'National Hunt', 'elite': 'No', 'score': 'C', 'counts': 2},\n",
       " {'type': 'National Hunt', 'elite': 'Yes', 'score': 'A+', 'counts': 2}]"
      ]
     },
     "execution_count": 233,
     "metadata": {},
     "output_type": "execute_result"
    }
   ],
   "source": [
    "dfx2 = merged_df[merged_df['cardio'] == True].drop_duplicates(subset=['horse_id']).groupby(['type', 'elite'])['cardio_video_score' ].value_counts()\n",
    "dfx = pd.DataFrame(dfx2)\n",
    "df_out = dfx.rename(columns={'cardio_video_score': 'counts',}).reset_index().rename(columns={'cardio_video_score': 'score'})\n",
    "df_out.to_dict(orient='records')"
   ]
  },
  {
   "cell_type": "code",
   "execution_count": 235,
   "id": "c60a4c54",
   "metadata": {},
   "outputs": [
    {
     "data": {
      "text/plain": [
       "[{'horse_type': 'Male Yearling', 'elite': 'No', 'counts': 1669},\n",
       " {'horse_type': 'Female Yearling', 'elite': 'No', 'counts': 1392},\n",
       " {'horse_type': 'Female Older', 'elite': 'No', 'counts': 810},\n",
       " {'horse_type': 'Female Older', 'elite': 'Yes', 'counts': 571},\n",
       " {'horse_type': 'Male Older', 'elite': 'Yes', 'counts': 275},\n",
       " {'horse_type': 'Male Yearling', 'elite': 'Yes', 'counts': 233},\n",
       " {'horse_type': 'Male 2YO', 'elite': 'No', 'counts': 190},\n",
       " {'horse_type': 'Female 2YO', 'elite': 'No', 'counts': 152},\n",
       " {'horse_type': 'Female Weanling', 'elite': 'No', 'counts': 131},\n",
       " {'horse_type': 'Female Yearling', 'elite': 'Yes', 'counts': 111},\n",
       " {'horse_type': 'Male Weanling', 'elite': 'No', 'counts': 101},\n",
       " {'horse_type': 'Male Older', 'elite': 'No', 'counts': 93},\n",
       " {'horse_type': 'Male 2YO', 'elite': 'Yes', 'counts': 43},\n",
       " {'horse_type': 'Female 2YO', 'elite': 'Yes', 'counts': 28},\n",
       " {'horse_type': 'Male Weanling', 'elite': 'Yes', 'counts': 5}]"
      ]
     },
     "execution_count": 235,
     "metadata": {},
     "output_type": "execute_result"
    }
   ],
   "source": [
    "counts_s = merged_df[merged_df['biomechanics'] == True].drop_duplicates(subset=['horse_id'])[\n",
    "                ['horse_type', 'elite']].value_counts()\n",
    "stats_df = pd.DataFrame(counts_s).reset_index().rename(columns={0: 'counts'})\n",
    "stats_df.to_dict(orient='records')"
   ]
  },
  {
   "cell_type": "code",
   "execution_count": 11,
   "id": "cc9b2780",
   "metadata": {},
   "outputs": [],
   "source": [
    "cardio_bio_df = merged_df[['horse_type', 'elite', 'date_of_measure', 'horse_id', 'prob_cardio_bio_model_score']]"
   ]
  },
  {
   "cell_type": "code",
   "execution_count": 14,
   "outputs": [],
   "source": [
    "cardio_bio_df_clean = cardio_bio_df[~cardio_bio_df['prob_cardio_bio_model_score'].isnull()].drop_duplicates(subset=['horse_id', 'date_of_measure']).drop(columns=['horse_id', 'date_of_measure'])"
   ],
   "metadata": {
    "collapsed": false,
    "pycharm": {
     "name": "#%%\n"
    }
   }
  },
  {
   "cell_type": "code",
   "execution_count": 17,
   "outputs": [
    {
     "data": {
      "text/plain": "[{'horse_type': 'Female 2YO',\n  'elite': 'No',\n  'prob_cardio_bio_model_score': 'C',\n  'count': 60},\n {'horse_type': 'Female 2YO',\n  'elite': 'No',\n  'prob_cardio_bio_model_score': 'D',\n  'count': 99},\n {'horse_type': 'Female 2YO',\n  'elite': 'Yes',\n  'prob_cardio_bio_model_score': 'B',\n  'count': 2},\n {'horse_type': 'Female 2YO',\n  'elite': 'Yes',\n  'prob_cardio_bio_model_score': 'C',\n  'count': 6},\n {'horse_type': 'Female 2YO',\n  'elite': 'Yes',\n  'prob_cardio_bio_model_score': 'D',\n  'count': 7},\n {'horse_type': 'Female Older',\n  'elite': 'No',\n  'prob_cardio_bio_model_score': 'B',\n  'count': 77},\n {'horse_type': 'Female Older',\n  'elite': 'No',\n  'prob_cardio_bio_model_score': 'B+',\n  'count': 19},\n {'horse_type': 'Female Older',\n  'elite': 'No',\n  'prob_cardio_bio_model_score': 'C',\n  'count': 216},\n {'horse_type': 'Female Older',\n  'elite': 'No',\n  'prob_cardio_bio_model_score': 'D',\n  'count': 370},\n {'horse_type': 'Female Older',\n  'elite': 'Yes',\n  'prob_cardio_bio_model_score': 'A',\n  'count': 13},\n {'horse_type': 'Female Older',\n  'elite': 'Yes',\n  'prob_cardio_bio_model_score': 'B',\n  'count': 164},\n {'horse_type': 'Female Older',\n  'elite': 'Yes',\n  'prob_cardio_bio_model_score': 'B+',\n  'count': 120},\n {'horse_type': 'Female Older',\n  'elite': 'Yes',\n  'prob_cardio_bio_model_score': 'C',\n  'count': 72},\n {'horse_type': 'Female Older',\n  'elite': 'Yes',\n  'prob_cardio_bio_model_score': 'D',\n  'count': 30},\n {'horse_type': 'Female Weanling',\n  'elite': 'No',\n  'prob_cardio_bio_model_score': 'C',\n  'count': 12},\n {'horse_type': 'Female Weanling',\n  'elite': 'No',\n  'prob_cardio_bio_model_score': 'D',\n  'count': 74},\n {'horse_type': 'Female Yearling',\n  'elite': 'No',\n  'prob_cardio_bio_model_score': 'C',\n  'count': 76},\n {'horse_type': 'Female Yearling',\n  'elite': 'No',\n  'prob_cardio_bio_model_score': 'D',\n  'count': 592},\n {'horse_type': 'Female Yearling',\n  'elite': 'Yes',\n  'prob_cardio_bio_model_score': 'B',\n  'count': 11},\n {'horse_type': 'Female Yearling',\n  'elite': 'Yes',\n  'prob_cardio_bio_model_score': 'C',\n  'count': 8},\n {'horse_type': 'Female Yearling',\n  'elite': 'Yes',\n  'prob_cardio_bio_model_score': 'D',\n  'count': 25},\n {'horse_type': 'Male 2YO',\n  'elite': 'No',\n  'prob_cardio_bio_model_score': 'B',\n  'count': 2},\n {'horse_type': 'Male 2YO',\n  'elite': 'No',\n  'prob_cardio_bio_model_score': 'C',\n  'count': 46},\n {'horse_type': 'Male 2YO',\n  'elite': 'No',\n  'prob_cardio_bio_model_score': 'D',\n  'count': 110},\n {'horse_type': 'Male 2YO',\n  'elite': 'Yes',\n  'prob_cardio_bio_model_score': 'B',\n  'count': 2},\n {'horse_type': 'Male 2YO',\n  'elite': 'Yes',\n  'prob_cardio_bio_model_score': 'C',\n  'count': 5},\n {'horse_type': 'Male 2YO',\n  'elite': 'Yes',\n  'prob_cardio_bio_model_score': 'D',\n  'count': 2},\n {'horse_type': 'Male Older',\n  'elite': 'No',\n  'prob_cardio_bio_model_score': 'B',\n  'count': 15},\n {'horse_type': 'Male Older',\n  'elite': 'No',\n  'prob_cardio_bio_model_score': 'B+',\n  'count': 2},\n {'horse_type': 'Male Older',\n  'elite': 'No',\n  'prob_cardio_bio_model_score': 'C',\n  'count': 59},\n {'horse_type': 'Male Older',\n  'elite': 'No',\n  'prob_cardio_bio_model_score': 'D',\n  'count': 63},\n {'horse_type': 'Male Older',\n  'elite': 'Yes',\n  'prob_cardio_bio_model_score': 'B',\n  'count': 39},\n {'horse_type': 'Male Older',\n  'elite': 'Yes',\n  'prob_cardio_bio_model_score': 'B+',\n  'count': 23},\n {'horse_type': 'Male Older',\n  'elite': 'Yes',\n  'prob_cardio_bio_model_score': 'C',\n  'count': 27},\n {'horse_type': 'Male Older',\n  'elite': 'Yes',\n  'prob_cardio_bio_model_score': 'D',\n  'count': 4},\n {'horse_type': 'Male Weanling',\n  'elite': 'No',\n  'prob_cardio_bio_model_score': 'C',\n  'count': 27},\n {'horse_type': 'Male Weanling',\n  'elite': 'No',\n  'prob_cardio_bio_model_score': 'D',\n  'count': 76},\n {'horse_type': 'Male Yearling',\n  'elite': 'No',\n  'prob_cardio_bio_model_score': 'B',\n  'count': 6},\n {'horse_type': 'Male Yearling',\n  'elite': 'No',\n  'prob_cardio_bio_model_score': 'B+',\n  'count': 1},\n {'horse_type': 'Male Yearling',\n  'elite': 'No',\n  'prob_cardio_bio_model_score': 'C',\n  'count': 102},\n {'horse_type': 'Male Yearling',\n  'elite': 'No',\n  'prob_cardio_bio_model_score': 'D',\n  'count': 825},\n {'horse_type': 'Male Yearling',\n  'elite': 'Yes',\n  'prob_cardio_bio_model_score': 'B',\n  'count': 11},\n {'horse_type': 'Male Yearling',\n  'elite': 'Yes',\n  'prob_cardio_bio_model_score': 'C',\n  'count': 24},\n {'horse_type': 'Male Yearling',\n  'elite': 'Yes',\n  'prob_cardio_bio_model_score': 'D',\n  'count': 14}]"
     },
     "execution_count": 17,
     "metadata": {},
     "output_type": "execute_result"
    }
   ],
   "source": [
    "cardio_bio_df_clean.groupby(['horse_type', 'elite', 'prob_cardio_bio_model_score'], as_index=False).value_counts().to_dict(orient='records')"
   ],
   "metadata": {
    "collapsed": false,
    "pycharm": {
     "name": "#%%\n"
    }
   }
  },
  {
   "cell_type": "code",
   "execution_count": 28,
   "outputs": [
    {
     "name": "stdout",
     "output_type": "stream",
     "text": [
      "{'horse_type': 'Female 2YO', 'elite': 'No', 'score': 'C', 'counts': 60}\n"
     ]
    }
   ],
   "source": [
    "def get_tabular_age_measures_stats(df: pd.DataFrame, prob_field_name, field_type) -> list[dict]:\n",
    "    dfx = df[[field_type, 'elite', 'date_of_measure', 'horse_id', prob_field_name]]\n",
    "    dfx = dfx[~dfx[prob_field_name].isnull()].drop_duplicates(subset=['horse_id', 'date_of_measure']).drop(columns=['horse_id', 'date_of_measure'])\n",
    "    data = dfx.groupby([field_type, 'elite', prob_field_name], as_index=False).value_counts().to_dict(orient='records')\n",
    "    return data\n",
    "\n",
    "cardio_biomechanics_tabular_data = get_tabular_age_measures_stats(merged_df, 'prob_cardio_bio_model_score', 'horse_type')\n",
    "biomechanics_tabular_data = get_tabular_age_measures_stats(merged_df, 'prob_bio_model_score', 'type')"
   ],
   "metadata": {
    "collapsed": false,
    "pycharm": {
     "name": "#%%\n"
    }
   }
  },
  {
   "cell_type": "code",
   "execution_count": 25,
   "outputs": [
    {
     "data": {
      "text/plain": "[{'biomechanics_cluster': 0,\n  'elite': 'No',\n  'prob_bio_model_score': 'B',\n  'count': 16},\n {'biomechanics_cluster': 0,\n  'elite': 'No',\n  'prob_bio_model_score': 'B+',\n  'count': 1},\n {'biomechanics_cluster': 0,\n  'elite': 'No',\n  'prob_bio_model_score': 'C',\n  'count': 14},\n {'biomechanics_cluster': 0,\n  'elite': 'No',\n  'prob_bio_model_score': 'D',\n  'count': 11},\n {'biomechanics_cluster': 0,\n  'elite': 'Yes',\n  'prob_bio_model_score': 'B',\n  'count': 24},\n {'biomechanics_cluster': 0,\n  'elite': 'Yes',\n  'prob_bio_model_score': 'B+',\n  'count': 35},\n {'biomechanics_cluster': 0,\n  'elite': 'Yes',\n  'prob_bio_model_score': 'C',\n  'count': 5},\n {'biomechanics_cluster': 0,\n  'elite': 'Yes',\n  'prob_bio_model_score': 'D',\n  'count': 1},\n {'biomechanics_cluster': 1,\n  'elite': 'No',\n  'prob_bio_model_score': 'B',\n  'count': 19},\n {'biomechanics_cluster': 1,\n  'elite': 'No',\n  'prob_bio_model_score': 'C',\n  'count': 91},\n {'biomechanics_cluster': 1,\n  'elite': 'No',\n  'prob_bio_model_score': 'D',\n  'count': 447},\n {'biomechanics_cluster': 1,\n  'elite': 'Yes',\n  'prob_bio_model_score': 'B',\n  'count': 39},\n {'biomechanics_cluster': 1,\n  'elite': 'Yes',\n  'prob_bio_model_score': 'B+',\n  'count': 4},\n {'biomechanics_cluster': 1,\n  'elite': 'Yes',\n  'prob_bio_model_score': 'C',\n  'count': 24},\n {'biomechanics_cluster': 1,\n  'elite': 'Yes',\n  'prob_bio_model_score': 'D',\n  'count': 19},\n {'biomechanics_cluster': 2,\n  'elite': 'No',\n  'prob_bio_model_score': 'B',\n  'count': 25},\n {'biomechanics_cluster': 2,\n  'elite': 'No',\n  'prob_bio_model_score': 'B+',\n  'count': 2},\n {'biomechanics_cluster': 2,\n  'elite': 'No',\n  'prob_bio_model_score': 'C',\n  'count': 47},\n {'biomechanics_cluster': 2,\n  'elite': 'No',\n  'prob_bio_model_score': 'D',\n  'count': 466},\n {'biomechanics_cluster': 2,\n  'elite': 'Yes',\n  'prob_bio_model_score': 'B',\n  'count': 58},\n {'biomechanics_cluster': 2,\n  'elite': 'Yes',\n  'prob_bio_model_score': 'B+',\n  'count': 13},\n {'biomechanics_cluster': 2,\n  'elite': 'Yes',\n  'prob_bio_model_score': 'C',\n  'count': 14},\n {'biomechanics_cluster': 2,\n  'elite': 'Yes',\n  'prob_bio_model_score': 'D',\n  'count': 14},\n {'biomechanics_cluster': 3,\n  'elite': 'No',\n  'prob_bio_model_score': 'B',\n  'count': 17},\n {'biomechanics_cluster': 3,\n  'elite': 'No',\n  'prob_bio_model_score': 'B+',\n  'count': 1},\n {'biomechanics_cluster': 3,\n  'elite': 'No',\n  'prob_bio_model_score': 'C',\n  'count': 59},\n {'biomechanics_cluster': 3,\n  'elite': 'No',\n  'prob_bio_model_score': 'D',\n  'count': 462},\n {'biomechanics_cluster': 3,\n  'elite': 'Yes',\n  'prob_bio_model_score': 'B',\n  'count': 50},\n {'biomechanics_cluster': 3,\n  'elite': 'Yes',\n  'prob_bio_model_score': 'B+',\n  'count': 8},\n {'biomechanics_cluster': 3,\n  'elite': 'Yes',\n  'prob_bio_model_score': 'C',\n  'count': 28},\n {'biomechanics_cluster': 3,\n  'elite': 'Yes',\n  'prob_bio_model_score': 'D',\n  'count': 21},\n {'biomechanics_cluster': 4,\n  'elite': 'No',\n  'prob_bio_model_score': 'B',\n  'count': 24},\n {'biomechanics_cluster': 4,\n  'elite': 'No',\n  'prob_bio_model_score': 'B+',\n  'count': 1},\n {'biomechanics_cluster': 4,\n  'elite': 'No',\n  'prob_bio_model_score': 'C',\n  'count': 100},\n {'biomechanics_cluster': 4,\n  'elite': 'No',\n  'prob_bio_model_score': 'D',\n  'count': 454},\n {'biomechanics_cluster': 4,\n  'elite': 'Yes',\n  'prob_bio_model_score': 'B',\n  'count': 40},\n {'biomechanics_cluster': 4,\n  'elite': 'Yes',\n  'prob_bio_model_score': 'B+',\n  'count': 17},\n {'biomechanics_cluster': 4,\n  'elite': 'Yes',\n  'prob_bio_model_score': 'C',\n  'count': 26},\n {'biomechanics_cluster': 4,\n  'elite': 'Yes',\n  'prob_bio_model_score': 'D',\n  'count': 13},\n {'biomechanics_cluster': 5,\n  'elite': 'No',\n  'prob_bio_model_score': 'B',\n  'count': 27},\n {'biomechanics_cluster': 5,\n  'elite': 'No',\n  'prob_bio_model_score': 'C',\n  'count': 84},\n {'biomechanics_cluster': 5,\n  'elite': 'No',\n  'prob_bio_model_score': 'D',\n  'count': 394},\n {'biomechanics_cluster': 5,\n  'elite': 'Yes',\n  'prob_bio_model_score': 'B',\n  'count': 57},\n {'biomechanics_cluster': 5,\n  'elite': 'Yes',\n  'prob_bio_model_score': 'B+',\n  'count': 10},\n {'biomechanics_cluster': 5,\n  'elite': 'Yes',\n  'prob_bio_model_score': 'C',\n  'count': 25},\n {'biomechanics_cluster': 5,\n  'elite': 'Yes',\n  'prob_bio_model_score': 'D',\n  'count': 15},\n {'biomechanics_cluster': 6,\n  'elite': 'No',\n  'prob_bio_model_score': 'B',\n  'count': 23},\n {'biomechanics_cluster': 6,\n  'elite': 'No',\n  'prob_bio_model_score': 'C',\n  'count': 60},\n {'biomechanics_cluster': 6,\n  'elite': 'No',\n  'prob_bio_model_score': 'D',\n  'count': 177},\n {'biomechanics_cluster': 6,\n  'elite': 'Yes',\n  'prob_bio_model_score': 'B',\n  'count': 58},\n {'biomechanics_cluster': 6,\n  'elite': 'Yes',\n  'prob_bio_model_score': 'B+',\n  'count': 9},\n {'biomechanics_cluster': 6,\n  'elite': 'Yes',\n  'prob_bio_model_score': 'C',\n  'count': 27},\n {'biomechanics_cluster': 6,\n  'elite': 'Yes',\n  'prob_bio_model_score': 'D',\n  'count': 2},\n {'biomechanics_cluster': 7,\n  'elite': 'No',\n  'prob_bio_model_score': 'B',\n  'count': 20},\n {'biomechanics_cluster': 7,\n  'elite': 'No',\n  'prob_bio_model_score': 'B+',\n  'count': 2},\n {'biomechanics_cluster': 7,\n  'elite': 'No',\n  'prob_bio_model_score': 'C',\n  'count': 134},\n {'biomechanics_cluster': 7,\n  'elite': 'No',\n  'prob_bio_model_score': 'D',\n  'count': 402},\n {'biomechanics_cluster': 7,\n  'elite': 'Yes',\n  'prob_bio_model_score': 'B',\n  'count': 33},\n {'biomechanics_cluster': 7,\n  'elite': 'Yes',\n  'prob_bio_model_score': 'B+',\n  'count': 21},\n {'biomechanics_cluster': 7,\n  'elite': 'Yes',\n  'prob_bio_model_score': 'C',\n  'count': 25},\n {'biomechanics_cluster': 7,\n  'elite': 'Yes',\n  'prob_bio_model_score': 'D',\n  'count': 13},\n {'biomechanics_cluster': 8,\n  'elite': 'No',\n  'prob_bio_model_score': 'B',\n  'count': 22},\n {'biomechanics_cluster': 8,\n  'elite': 'No',\n  'prob_bio_model_score': 'C',\n  'count': 101},\n {'biomechanics_cluster': 8,\n  'elite': 'No',\n  'prob_bio_model_score': 'D',\n  'count': 422},\n {'biomechanics_cluster': 8,\n  'elite': 'Yes',\n  'prob_bio_model_score': 'B',\n  'count': 50},\n {'biomechanics_cluster': 8,\n  'elite': 'Yes',\n  'prob_bio_model_score': 'B+',\n  'count': 16},\n {'biomechanics_cluster': 8,\n  'elite': 'Yes',\n  'prob_bio_model_score': 'C',\n  'count': 25},\n {'biomechanics_cluster': 8,\n  'elite': 'Yes',\n  'prob_bio_model_score': 'D',\n  'count': 10},\n {'biomechanics_cluster': 9,\n  'elite': 'No',\n  'prob_bio_model_score': 'B',\n  'count': 22},\n {'biomechanics_cluster': 9,\n  'elite': 'No',\n  'prob_bio_model_score': 'B+',\n  'count': 1},\n {'biomechanics_cluster': 9,\n  'elite': 'No',\n  'prob_bio_model_score': 'C',\n  'count': 91},\n {'biomechanics_cluster': 9,\n  'elite': 'No',\n  'prob_bio_model_score': 'D',\n  'count': 469},\n {'biomechanics_cluster': 9,\n  'elite': 'Yes',\n  'prob_bio_model_score': 'B',\n  'count': 51},\n {'biomechanics_cluster': 9,\n  'elite': 'Yes',\n  'prob_bio_model_score': 'B+',\n  'count': 2},\n {'biomechanics_cluster': 9,\n  'elite': 'Yes',\n  'prob_bio_model_score': 'C',\n  'count': 25},\n {'biomechanics_cluster': 9,\n  'elite': 'Yes',\n  'prob_bio_model_score': 'D',\n  'count': 15}]"
     },
     "execution_count": 25,
     "metadata": {},
     "output_type": "execute_result"
    }
   ],
   "source": [
    "# dfxx = merged_df[['biomechanics_cluster', 'elite', 'prob_bio_model_score', 'horse_id', 'date_of_measure']]\n",
    "get_tabular_age_measures_stats(merged_df, 'prob_bio_model_score', 'biomechanics_cluster')"
   ],
   "metadata": {
    "collapsed": false,
    "pycharm": {
     "name": "#%%\n"
    }
   }
  },
  {
   "cell_type": "code",
   "execution_count": 6,
   "outputs": [],
   "source": [
    "biomechanics_df = merged_df[merged_df['biomechanics'] == True]"
   ],
   "metadata": {
    "collapsed": false,
    "pycharm": {
     "name": "#%%\n"
    }
   }
  },
  {
   "cell_type": "code",
   "execution_count": 9,
   "outputs": [
    {
     "name": "stdout",
     "output_type": "stream",
     "text": [
      "[{'horse_age_type': 'Yearling', 'counts': 'D', 'elite': 'No', 0: 3111}, {'horse_age_type': 'Older', 'counts': 'D', 'elite': 'No', 0: 917}, {'horse_age_type': '2YO', 'counts': 'D', 'elite': 'No', 0: 379}, {'horse_age_type': 'Weanling', 'counts': 'D', 'elite': 'No', 0: 375}, {'horse_age_type': 'Older', 'counts': 'D', 'elite': 'Yes', 0: 295}, {'horse_age_type': 'Older', 'counts': 'A+', 'elite': 'Yes', 0: 166}, {'horse_age_type': 'Yearling', 'counts': 'D', 'elite': 'Yes', 0: 114}, {'horse_age_type': 'Older', 'counts': 'A+', 'elite': 'No', 0: 79}, {'horse_age_type': 'Yearling', 'counts': 'C', 'elite': 'No', 0: 69}, {'horse_age_type': 'Older', 'counts': 'C', 'elite': 'Yes', 0: 63}, {'horse_age_type': 'Older', 'counts': 'B', 'elite': 'Yes', 0: 61}, {'horse_age_type': 'Older', 'counts': 'C', 'elite': 'No', 0: 53}, {'horse_age_type': 'Older', 'counts': 'A', 'elite': 'Yes', 0: 45}, {'horse_age_type': 'Yearling', 'counts': 'A+', 'elite': 'No', 0: 42}, {'horse_age_type': 'Older', 'counts': 'B+', 'elite': 'Yes', 0: 39}, {'horse_age_type': 'Yearling', 'counts': 'A+', 'elite': 'Yes', 0: 38}, {'horse_age_type': 'Yearling', 'counts': 'B', 'elite': 'No', 0: 32}, {'horse_age_type': 'Older', 'counts': 'B', 'elite': 'No', 0: 31}, {'horse_age_type': 'Older', 'counts': 'A', 'elite': 'No', 0: 24}, {'horse_age_type': 'Older', 'counts': 'B+', 'elite': 'No', 0: 23}, {'horse_age_type': '2YO', 'counts': 'D', 'elite': 'Yes', 0: 22}, {'horse_age_type': 'Yearling', 'counts': 'A', 'elite': 'No', 0: 16}, {'horse_age_type': 'Yearling', 'counts': 'C', 'elite': 'Yes', 0: 15}, {'horse_age_type': 'Yearling', 'counts': 'B+', 'elite': 'No', 0: 14}, {'horse_age_type': 'Weanling', 'counts': 'C', 'elite': 'No', 0: 11}, {'horse_age_type': 'Yearling', 'counts': 'B', 'elite': 'Yes', 0: 10}, {'horse_age_type': 'Yearling', 'counts': 'A', 'elite': 'Yes', 0: 10}, {'horse_age_type': '2YO', 'counts': 'C', 'elite': 'No', 0: 9}, {'horse_age_type': '2YO', 'counts': 'A+', 'elite': 'No', 0: 8}, {'horse_age_type': 'Yearling', 'counts': 'B+', 'elite': 'Yes', 0: 8}, {'horse_age_type': 'Weanling', 'counts': 'B', 'elite': 'No', 0: 7}, {'horse_age_type': '2YO', 'counts': 'B', 'elite': 'No', 0: 6}, {'horse_age_type': '2YO', 'counts': 'A', 'elite': 'No', 0: 5}, {'horse_age_type': '2YO', 'counts': 'A+', 'elite': 'Yes', 0: 4}, {'horse_age_type': 'Weanling', 'counts': 'A+', 'elite': 'No', 0: 4}, {'horse_age_type': '2YO', 'counts': 'C', 'elite': 'Yes', 0: 4}, {'horse_age_type': '2YO', 'counts': 'B', 'elite': 'Yes', 0: 3}, {'horse_age_type': '2YO', 'counts': 'B+', 'elite': 'No', 0: 3}, {'horse_age_type': 'Weanling', 'counts': 'A', 'elite': 'No', 0: 2}, {'horse_age_type': '2YO', 'counts': 'B+', 'elite': 'Yes', 0: 2}, {'horse_age_type': '2YO', 'counts': 'A', 'elite': 'Yes', 0: 2}, {'horse_age_type': 'Weanling', 'counts': 'B+', 'elite': 'No', 0: 1}, {'horse_age_type': '', 'counts': 'D', 'elite': 'No', 0: 1}]\n"
     ]
    }
   ],
   "source": [
    "def get_scores_by_age(df: pd.DataFrame, score_field: str):\n",
    "    dfx = df.drop_duplicates(subset=['horse_id'])[\n",
    "        ['horse_age_type', score_field, 'elite']]\n",
    "    df_out = dfx.reset_index().rename(columns={score_field: 'counts'})\n",
    "    return df_out.to_dict(orient='records')\n",
    "\n",
    "biomechanics_score_age = get_scores_by_age(biomechanics_df, 'biomechanics_video_score')\n",
    "print(biomechanics_score_age)"
   ],
   "metadata": {
    "collapsed": false,
    "pycharm": {
     "name": "#%%\n"
    }
   }
  },
  {
   "cell_type": "code",
   "execution_count": 68,
   "outputs": [],
   "source": [
    "df = biomechanics_df\n",
    "score_field = 'biomechanics_video_score'\n",
    "dfx = df.drop_duplicates(subset=['horse_id'])[\n",
    "        ['horse_age_type', score_field, 'elite']]\n",
    "# dfx.pivot(values='elite', columns=[ 'horse_age_type', score_field]).to_dict(orient='records')\n",
    "df_final = dfx.set_index(['horse_age_type', score_field]).groupby(level=[0, 1]).value_counts()"
   ],
   "metadata": {
    "collapsed": false,
    "pycharm": {
     "name": "#%%\n"
    }
   }
  },
  {
   "cell_type": "code",
   "execution_count": 67,
   "outputs": [
    {
     "data": {
      "text/plain": "biomechanics_video_score  elite\nD                         No       1\ndtype: int64"
     },
     "execution_count": 67,
     "metadata": {},
     "output_type": "execute_result"
    }
   ],
   "source": [
    "# df_final.unstack()\n",
    "# {level: df.xs(level) for level in df.index.levels[0]}\n",
    "# [df.xs(level) for level in df.index.levels[0]]\n",
    "# [for df.xs(df.index.levels[0])\n",
    "df.xs(df.index.levels[0][0])"
   ],
   "metadata": {
    "collapsed": false,
    "pycharm": {
     "name": "#%%\n"
    }
   }
  },
  {
   "cell_type": "code",
   "execution_count": null,
   "outputs": [],
   "source": [
    "def get_stats(df: pd.DataFrame, grouped_field, score_field,):\n",
    "    \"\"\"\n",
    "    :param df:\n",
    "    :param type_field: horse_age_type for example\n",
    "    :param score_field: biomechanics_video_score for example\n",
    "    :return:\n",
    "    \"\"\"\n",
    "    dfx = df.drop_duplicates(subset=['horse_id'])[[grouped_field, score_field, 'elite']]\n",
    "    dfx = dfx.set_index([grouped_field, score_field]).groupby(level=[0, 1]).value_counts()\n",
    "    data = {}\n",
    "    for l1 in dfx.index.levels[0]:\n",
    "        if not l1:\n",
    "            continue\n",
    "        l2_data = {}\n",
    "        for l2 in dfx.index.levels[1]:\n",
    "            try:\n",
    "                d = dfx.xs(l1).xs(l2).to_dict()\n",
    "                l2_data[l2]=d\n",
    "            except KeyError as e:\n",
    "                pass\n",
    "        data[l1] = l2_data\n",
    "    return data\n",
    "from pprint import pprint\n",
    "grouped_field = 'horse_age_type'\n",
    "# pprint(get_stats(biomechanics_df, 'horse_age_type', 'biomechanics_video_score'))\n",
    "cardio_df = merged_df[merged_df['cardio'] == True]\n",
    "# grouped_field = 'cardio_cluster'\n",
    "# score_field = 'cardio_video_score'\n",
    "# dfx = cardio_df\n",
    "# dfx = df.drop_duplicates(subset=['horse_id'])[[grouped_field, score_field, 'elite']]\n",
    "# dfx = dfx.set_index([grouped_field, score_field]).groupby(level=[0, 1]).value_counts()\n",
    "# dfx.index.levels\n",
    "cardio_score_cluster = get_stats(cardio_df, 'cardio_cluster', 'cardio_video_score')\n",
    "pprint(cardio_score_cluster)"
   ],
   "metadata": {
    "collapsed": false,
    "pycharm": {
     "name": "#%%\n"
    }
   }
  },
  {
   "cell_type": "code",
   "execution_count": 119,
   "outputs": [
    {
     "name": "stdout",
     "output_type": "stream",
     "text": [
      "[{'type': 'Flat', 'elite': 'No', 'score': 'D', 'counts': 3327}, {'type': 'Flat', 'elite': 'No', 'score': 'A+', 'counts': 315}, {'type': 'Flat', 'elite': 'No', 'score': 'C', 'counts': 294}, {'type': 'Flat', 'elite': 'No', 'score': 'B', 'counts': 170}, {'type': 'Flat', 'elite': 'No', 'score': 'A', 'counts': 140}, {'type': 'Flat', 'elite': 'No', 'score': 'B+', 'counts': 93}, {'type': 'Flat', 'elite': 'Yes', 'score': 'A+', 'counts': 287}, {'type': 'Flat', 'elite': 'Yes', 'score': 'D', 'counts': 237}, {'type': 'Flat', 'elite': 'Yes', 'score': 'A', 'counts': 77}, {'type': 'Flat', 'elite': 'Yes', 'score': 'C', 'counts': 69}, {'type': 'Flat', 'elite': 'Yes', 'score': 'B', 'counts': 52}, {'type': 'Flat', 'elite': 'Yes', 'score': 'B+', 'counts': 35}, {'type': 'National Hunt', 'elite': 'No', 'score': 'D', 'counts': 25}, {'type': 'National Hunt', 'elite': 'No', 'score': 'A+', 'counts': 8}, {'type': 'National Hunt', 'elite': 'No', 'score': 'B', 'counts': 5}, {'type': 'National Hunt', 'elite': 'No', 'score': 'C', 'counts': 5}, {'type': 'National Hunt', 'elite': 'No', 'score': 'B+', 'counts': 1}, {'type': 'National Hunt', 'elite': 'Yes', 'score': 'A+', 'counts': 3}, {'type': 'National Hunt', 'elite': 'Yes', 'score': 'D', 'counts': 2}]\n"
     ]
    }
   ],
   "source": [
    "def get_scores_by_type(df: pd.DataFrame, score_column) -> list[dict]:\n",
    "    dfx2 = df.drop_duplicates(subset=['horse_id']).groupby(['type', 'elite'])[\n",
    "        score_column].value_counts()\n",
    "    dfx = pd.DataFrame(dfx2)\n",
    "    df_out = dfx.rename(columns={score_column: 'counts', }).reset_index().rename(\n",
    "        columns={score_column: 'score'})\n",
    "    return df_out.to_dict(orient='records')\n",
    "\n",
    "cardio_score_type = get_scores_by_type(cardio_df, 'cardio_video_score')\n",
    "print(cardio_score_type)"
   ],
   "metadata": {
    "collapsed": false,
    "pycharm": {
     "name": "#%%\n"
    }
   }
  }
 ],
 "metadata": {
  "kernelspec": {
   "name": "python3",
   "language": "python",
   "display_name": "Python 3 (ipykernel)"
  },
  "language_info": {
   "codemirror_mode": {
    "name": "ipython",
    "version": 3
   },
   "file_extension": ".py",
   "mimetype": "text/x-python",
   "name": "python",
   "nbconvert_exporter": "python",
   "pygments_lexer": "ipython3",
   "version": "3.7.5"
  }
 },
 "nbformat": 4,
 "nbformat_minor": 5
}